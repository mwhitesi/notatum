{
 "cells": [
  {
   "cell_type": "code",
   "execution_count": 1,
   "metadata": {},
   "outputs": [],
   "source": [
    "import numpy as np\n",
    "from pathlib import Path\n",
    "import torch\n",
    "import torch.utils.data as data_utils\n",
    "\n",
    "# Local modules\n",
    "import sys\n",
    "mod_dir = Path(\"../source\")\n",
    "sys.path.append(mod_dir)\n",
    "import source.io.dataloader as dl\n",
    "import source.model"
   ]
  },
  {
   "cell_type": "code",
   "execution_count": 2,
   "metadata": {},
   "outputs": [],
   "source": [
    "A = \"AMP\"\n",
    "batch_size = 64\n",
    "test_split = .2\n",
    "shuffle_dataset = True\n",
    "random_seed= 42\n",
    "learning_rate = 0.5  \n",
    "epochs = 2"
   ]
  },
  {
   "cell_type": "code",
   "execution_count": 3,
   "metadata": {},
   "outputs": [],
   "source": [
    "# Load data\n",
    "data_dir = Path(\"../data\")\n",
    "in_dir = data_dir / \"interim\" / \"ecoli\" / \"drugs\"\n",
    "\n",
    "ds = dl.GeneDataset(in_dir / \"{}.pt\".format(A),\n",
    "                    batch_size, test_split, shuffle_dataset, random_seed)"
   ]
  },
  {
   "cell_type": "code",
   "execution_count": null,
   "metadata": {},
   "outputs": [],
   "source": [
    "# Model\n",
    "# def get_model():\n",
    "#     model = Mnist_Logistic()\n",
    "#     return model, optim.SGD(model.parameters(), lr=learning_rate)"
   ]
  }
 ],
 "metadata": {
  "kernelspec": {
   "display_name": "Python 3",
   "language": "python",
   "name": "python3"
  },
  "language_info": {
   "codemirror_mode": {
    "name": "ipython",
    "version": 3
   },
   "file_extension": ".py",
   "mimetype": "text/x-python",
   "name": "python",
   "nbconvert_exporter": "python",
   "pygments_lexer": "ipython3",
   "version": "3.7.2"
  }
 },
 "nbformat": 4,
 "nbformat_minor": 2
}
