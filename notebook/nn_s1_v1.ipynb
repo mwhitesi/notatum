{
 "cells": [
  {
   "cell_type": "code",
   "execution_count": 1,
   "metadata": {},
   "outputs": [],
   "source": [
    "import numpy as np\n",
    "from pathlib import Path\n",
    "import torch\n",
    "import torch.utils.data as data_utils\n",
    "\n",
    "# Local modules\n",
    "import sys\n",
    "mod_dir = Path(\"../source\")\n",
    "sys.path.append(mod_dir)\n",
    "import source.io.dataloader as dl"
   ]
  },
  {
   "cell_type": "code",
   "execution_count": 2,
   "metadata": {},
   "outputs": [],
   "source": [
    "A = \"AMP\"\n",
    "batch_size = 64\n",
    "test_split = .2\n",
    "shuffle_dataset = True\n",
    "random_seed= 42\n",
    "learning_rate = 0.5  \n",
    "epochs = 2"
   ]
  },
  {
   "cell_type": "code",
   "execution_count": 3,
   "metadata": {},
   "outputs": [],
   "source": [
    "# Load data\n",
    "data_dir = Path(\"../data\")\n",
    "in_dir = data_dir / \"interim\" / \"ecoli\" / \"drugs\"\n",
    "\n",
    "ds = dl.GeneDataset(in_dir / \"{}.pt\".format(A),\n",
    "                    batch_size, test_split, shuffle_dataset, random_seed)"
   ]
  },
  {
   "cell_type": "code",
   "execution_count": 4,
   "metadata": {},
   "outputs": [],
   "source": [
    "it = iter(ds.train_loader)"
   ]
  },
  {
   "cell_type": "code",
   "execution_count": 5,
   "metadata": {},
   "outputs": [
    {
     "data": {
      "text/plain": [
       "[tensor([[1, 1, 1,  ..., 0, 0, 0],\n",
       "         [1, 1, 1,  ..., 0, 0, 0],\n",
       "         [1, 1, 1,  ..., 0, 0, 0],\n",
       "         ...,\n",
       "         [1, 1, 1,  ..., 0, 0, 0],\n",
       "         [1, 1, 1,  ..., 0, 0, 0],\n",
       "         [1, 1, 1,  ..., 0, 0, 0]]),\n",
       " tensor([1, 1, 1, 1, 1, 1, 0, 1, 1, 1, 0, 0, 1, 1, 1, 1, 0, 1, 0, 0, 1, 0, 0, 1,\n",
       "         1, 1, 0, 1, 1, 1, 1, 1, 1, 1, 1, 1, 1, 0, 0, 1, 1, 1, 1, 1, 1, 1, 1, 0,\n",
       "         0, 1, 1, 1, 0, 1, 0, 1, 1, 1, 1, 0, 0, 1, 1, 1], dtype=torch.int32),\n",
       " tensor([401, 555, 271, 768, 515,  94, 349,  68, 770,   3,  95, 598, 618, 105,\n",
       "         833, 733, 132, 611, 413, 194, 460, 648,  38, 228, 686, 516,  37, 412,\n",
       "         186, 810, 235, 537,  43, 297, 806,  45, 442, 269, 385, 151,  27,  55,\n",
       "         290, 755, 634, 308, 529, 830, 262, 454,  93, 501, 236, 399, 332, 331,\n",
       "         166, 362, 492, 589, 384, 632, 219, 348])]"
      ]
     },
     "execution_count": 5,
     "metadata": {},
     "output_type": "execute_result"
    }
   ],
   "source": [
    "next(it)"
   ]
  },
  {
   "cell_type": "code",
   "execution_count": null,
   "metadata": {},
   "outputs": [],
   "source": [
    "# Model\n",
    "# def get_model():\n",
    "#     model = Mnist_Logistic()\n",
    "#     return model, optim.SGD(model.parameters(), lr=learning_rate)"
   ]
  }
 ],
 "metadata": {
  "kernelspec": {
   "display_name": "Python 3",
   "language": "python",
   "name": "python3"
  },
  "language_info": {
   "codemirror_mode": {
    "name": "ipython",
    "version": 3
   },
   "file_extension": ".py",
   "mimetype": "text/x-python",
   "name": "python",
   "nbconvert_exporter": "python",
   "pygments_lexer": "ipython3",
   "version": "3.7.2"
  }
 },
 "nbformat": 4,
 "nbformat_minor": 2
}
